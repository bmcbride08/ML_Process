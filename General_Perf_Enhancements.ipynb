{
 "cells": [
  {
   "cell_type": "code",
   "execution_count": 13,
   "metadata": {
    "ExecuteTime": {
     "end_time": "2020-10-14T12:35:11.007940Z",
     "start_time": "2020-10-14T12:35:10.809940Z"
    }
   },
   "outputs": [],
   "source": [
    "import numpy as np\n",
    "import pandas as pd\n",
    "import os\n",
    "\n",
    "#Set number of Monte Carlo Simulations\n",
    "iterations = 100000\n",
    "\n",
    "#Set Discount Rate Parameters\n",
    "rf = 0.0192\n",
    "erp = 0.0687\n",
    "beta = 1.49\n",
    "companyspread = 0.0125\n",
    "countryspread = 0.009\n",
    "taxrate = 0.19\n",
    "alpha = 0.01\n",
    "debtweight = 0.2748\n",
    "terminal_growth = 0.01\n",
    "debt_outstanding = 200000000\n",
    "Cash_and_non_operating_assets = 15000000\n",
    "Percent_equity_held = 0.75\n",
    "\n",
    "#Set the filepath where the DCF data is stored\n",
    "filepath = \"D:\\Investing Papers\\Machine Learning\"\n",
    "\n",
    "\n",
    "# This code sets the current directory to the file path - DO NOT CHANGE\n",
    "os.chdir(filepath)\n",
    "cwd = os.getcwd()\n",
    "\n",
    "#add the name of the excel file in the text in red, after the \"r\"\n",
    "df = pd.read_excel(r'DCFTestData.xlsx', index_col=0,header=0)\n",
    "\n",
    "\n",
    "#Calculate Cash Flows from input data\n",
    "\n",
    "df['EBITDA'] = df['Revenue'] - df['Operating Cost']\n",
    "df['EBIT'] = df['EBITDA'] - df['DA']\n",
    "df['FCF'] = df['EBIT'] - df['Tax'] + df['DA'] - df['Capex'] - df['Change in WC']\n",
    "\n",
    "#Simulate beta and company spread variables\n",
    "beta_dist = np.random.normal(loc=beta, scale=0.01, size=iterations)\n",
    "companyspread_dist = np.random.triangular(left=companyspread*0.5,mode=companyspread, \n",
    "                                          right=companyspread*1.5, size=iterations)\n",
    "\n",
    "#Calculate WACCs\n",
    "cost_of_debt = ((rf + companyspread_dist + countryspread) * (1-taxrate))\n",
    "cost_of_equity = (rf + (beta_dist*erp) + alpha)\n",
    "cost_of_capital = ((cost_of_debt*debtweight) + (cost_of_equity*(1-debtweight)))\n",
    "\n",
    "#Convert input table into numpy array\n",
    "df = df.to_numpy()\n",
    "\n",
    "#Extract the discount rate periods\n",
    "DisPeriods = df[:,6]\n",
    "\n",
    "#Calculate Discount Rates\n",
    "Discount_Rates = np.zeros((iterations,DisPeriods.shape[0]))\n",
    "for i in range(0, DisPeriods.shape[0]):\n",
    "    Discount_Rates[:,i] = 1/((1+cost_of_capital)**DisPeriods[i])\n",
    "\n",
    "\n",
    "#Extract Cash Flows from numpy array and repeat cash flows for the number of Monte Carlo\n",
    "#simulations to be performed\n",
    "\n",
    "FCF = df[:,-1]\n",
    "FCF = np.repeat(FCF[np.newaxis,:], iterations, 0)\n",
    "\n",
    "#Calculate Terminal Value from the Terminal Years FCFF and reattach it to the FCF array\n",
    "terminal_value = np.array(FCF[:,-1] *(1+terminal_growth)/(cost_of_capital-terminal_growth))\n",
    "FCF = np.array(FCF[:,:-1])\n",
    "FCF = np.column_stack((FCF,terminal_value))\n",
    "\n",
    "#Simulate variance in FCF values and repeat/transpose to make \n",
    "FCF_dist_original = np.random.uniform(low=.90,high=1.1, size=iterations)\n",
    "FCF_dist = np.transpose(np.repeat(FCF_dist_original[np.newaxis,:], np.shape(FCF)[1],0))\n",
    "\n",
    "#Multiply Cash Flows by the simulated variance\n",
    "FCFOutput = FCF*FCF_dist\n",
    "\n",
    "#Multiply the FCF simulated values by the Discount Rate simulated values\n",
    "DCF = FCFOutput * Discount_Rates\n",
    "\n",
    "#Total Firm Simulation Value\n",
    "DCFSum = np.sum(DCF,axis=1)\n",
    "\n",
    "#Equity Simulation Value\n",
    "EquityValue = (DCFSum-debt_outstanding+Cash_and_non_operating_assets)*Percent_equity_held\n",
    "\n",
    "#Firm Value Percentiles\n",
    "DCFpercentiles = np.array([np.percentile(DCFSum, 75),np.percentile(DCFSum, 50),np.percentile(DCFSum, 25),\n",
    "                      np.percentile(DCFSum, 10),np.percentile(DCFSum, 1),np.percentile(DCFSum, 0.01)])\n",
    "labels = np.array([\"75th Percentile\",\"50th Percentile\",\"25th Percentile\",\"10th Percentile\",\n",
    "                   \"1st Percentile\",\"0.01 Percentile\"])\n",
    "\n",
    "DCFpercentiles = np.column_stack((labels,DCFpercentiles))\n",
    "DCFpercentiles = pd.DataFrame(DCFpercentiles)\n",
    "DCFpercentiles.columns = ['Percentile','DCF Firm Value']\n",
    "\n",
    "\n",
    "#Equity Value Percentiles, accounting for % of equity held\n",
    "Equitypercentiles = np.array([np.percentile(EquityValue, 75),np.percentile(EquityValue, 50),np.percentile(EquityValue, 25),\n",
    "                      np.percentile(EquityValue, 10),np.percentile(EquityValue, 1),np.percentile(EquityValue, 0.01)])\n",
    "\n",
    "Equitypercentiles = np.column_stack((labels,Equitypercentiles))\n",
    "Equitypercentiles = pd.DataFrame(Equitypercentiles)\n",
    "Equitypercentiles.columns = ['Percentile','DCF Equity Value']"
   ]
  },
  {
   "cell_type": "code",
   "execution_count": 14,
   "metadata": {
    "ExecuteTime": {
     "end_time": "2020-10-14T12:35:11.780940Z",
     "start_time": "2020-10-14T12:35:11.556940Z"
    }
   },
   "outputs": [],
   "source": [
    "###Using the numexpr evaluate function instead of simple numpy\n",
    "\n",
    "import numpy as np\n",
    "import pandas as pd\n",
    "import os\n",
    "import numexpr as ne\n",
    "import numba as nb\n",
    "\n",
    "#Set number of threads for calculations\n",
    "ne.set_num_threads(4)\n",
    "def DCF():\n",
    "    #Set number of Monte Carlo Simulations\n",
    "    iterations = 100000\n",
    "\n",
    "    #Set Discount Rate Parameters\n",
    "    rf = 0.0192\n",
    "    erp = 0.0687\n",
    "    beta = 1.49\n",
    "    companyspread = 0.0125\n",
    "    countryspread = 0.009\n",
    "    taxrate = 0.19\n",
    "    alpha = 0.01\n",
    "    debtweight = 0.2748\n",
    "    terminal_growth = 0.01\n",
    "    debt_outstanding = 200000000\n",
    "    Cash_and_non_operating_assets = 15000000\n",
    "    Percent_equity_held = 0.75\n",
    "\n",
    "    #Set the filepath where the DCF data is stored\n",
    "    filepath = \"D:\\Investing Papers\\Machine Learning\"\n",
    "\n",
    "\n",
    "    #This code sets the current directory to the file path - DO NOT CHANGE\n",
    "    os.chdir(filepath)\n",
    "    cwd = os.getcwd()\n",
    "\n",
    "    #add the name of the excel file in the text in red, after the \"r\"\n",
    "    df = pd.read_excel(r'DCFTestData.xlsx', index_col=0,header=0)\n",
    "\n",
    "    #Calculate Cash Flows from input data\n",
    "\n",
    "    df['EBITDA'] = df['Revenue'] - df['Operating Cost']\n",
    "    df['EBIT'] = df['EBITDA'] - df['DA']\n",
    "    df['FCF'] = df['EBIT'] - df['Tax'] + df['DA'] - df['Capex'] - df['Change in WC']\n",
    "\n",
    "    #Simulate beta and company spread variables\n",
    "    beta_dist = np.random.normal(loc=beta, scale=0.01, size=iterations)\n",
    "    companyspread_dist = np.random.triangular(left=companyspread*0.5,mode=companyspread, \n",
    "                                              right=companyspread*1.5, size=iterations)\n",
    "\n",
    "    #Calculate WACCs\n",
    "    ex ='((rf + companyspread_dist + countryspread) * (1-taxrate))'\n",
    "    cost_of_debt = ne.evaluate(ex)\n",
    "\n",
    "    ex = '(rf + (beta_dist*erp) + alpha)'\n",
    "    cost_of_equity = ne.evaluate(ex)\n",
    "\n",
    "    ex = '((cost_of_debt*debtweight) + (cost_of_equity*(1-debtweight)))'\n",
    "    cost_of_capital = ne.evaluate(ex)\n",
    "\n",
    "    #Convert input table into numpy array\n",
    "    df = df.to_numpy()\n",
    "\n",
    "    #Extract the discount rate periods\n",
    "    DisPeriods = df[:,6]\n",
    "\n",
    "    #Calculate Discount Rates\n",
    "    Discount_Rates = np.zeros((iterations,DisPeriods.shape[0]))\n",
    "    for i in range(0, DisPeriods.shape[0]):\n",
    "        Discount_Rates[:,i] = 1/((1+cost_of_capital)**DisPeriods[i])\n",
    "\n",
    "\n",
    "    #Extract Cash Flows from numpy array and repeat cash flows for the number of Monte Carlo\n",
    "    #simulations to be performed\n",
    "\n",
    "    FCF = df[:,-1]\n",
    "    FCF = np.repeat(FCF[np.newaxis,:], iterations, 0)\n",
    "\n",
    "    #Calculate Terminal Value from the Terminal Years FCFF and reattach it to the FCF array\n",
    "    ex = 'np.array(FCF[:,-1] *(1+terminal_growth)/(cost_of_capital-terminal_growth))'\n",
    "    terminal_value = terminal_value = ne.evaluate(ex)\n",
    "    FCF = np.array(FCF[:,:-1])\n",
    "    FCF = np.column_stack((FCF,terminal_value))\n",
    "\n",
    "    #Simulate variance in FCF values and repeat/transpose to make \n",
    "    FCF_dist_original = np.random.uniform(low=.90,high=1.1, size=iterations)\n",
    "    FCF_dist = np.transpose(np.repeat(FCF_dist_original[np.newaxis,:], np.shape(FCF)[1],0))\n",
    "\n",
    "    #Multiply Cash Flows by the simulated variance\n",
    "    ex = 'FCF*FCF_dist'\n",
    "    FCFOutput = ne.evaluate(ex)\n",
    "\n",
    "    #Multiply the FCF simulated values by the Discount Rate simulated values\n",
    "    ex = 'FCFOutput * Discount_Rates'\n",
    "    DCF = ne.evaluate(ex)\n",
    "\n",
    "    #Total Firm Simulation Value\n",
    "    DCFSum = np.sum(DCF,axis=1)\n",
    "\n",
    "    #Equity Simulation Value\n",
    "    ex = '(DCFSum-debt_outstanding+Cash_and_non_operating_assets)*Percent_equity_held'\n",
    "    EquityValue = ne.evaluate(ex)\n",
    "    \n",
    "    return DCFSum, EquityValue\n",
    "\n",
    "\n",
    "DCFSum, EquityValue = DCF()\n",
    "\n",
    "#Firm Value Percentiles\n",
    "DCFpercentiles = np.array([np.percentile(DCFSum, 75),np.percentile(DCFSum, 50),np.percentile(DCFSum, 25),\n",
    "                      np.percentile(DCFSum, 10),np.percentile(DCFSum, 1),np.percentile(DCFSum, 0.01)])\n",
    "labels = np.array([\"75th Percentile\",\"50th Percentile\",\"25th Percentile\",\"10th Percentile\",\n",
    "                   \"1st Percentile\",\"0.01 Percentile\"])\n",
    "\n",
    "DCFpercentiles = np.column_stack((labels,DCFpercentiles))\n",
    "DCFpercentiles = pd.DataFrame(DCFpercentiles)\n",
    "DCFpercentiles.columns = ['Percentile','DCF Firm Value']\n",
    "\n",
    "\n",
    "#Equity Value Percentiles, accounting for % of equity held\n",
    "Equitypercentiles = np.array([np.percentile(EquityValue, 75),np.percentile(EquityValue, 50),np.percentile(EquityValue, 25),\n",
    "                      np.percentile(EquityValue, 10),np.percentile(EquityValue, 1),np.percentile(EquityValue, 0.01)])\n",
    "\n",
    "Equitypercentiles = np.column_stack((labels,Equitypercentiles))\n",
    "Equitypercentiles = pd.DataFrame(Equitypercentiles)\n",
    "Equitypercentiles.columns = ['Percentile','DCF Equity Value']"
   ]
  },
  {
   "cell_type": "code",
   "execution_count": 10,
   "metadata": {
    "ExecuteTime": {
     "end_time": "2020-10-14T12:34:54.635940Z",
     "start_time": "2020-10-14T12:33:54.950940Z"
    }
   },
   "outputs": [
    {
     "name": "stdout",
     "output_type": "stream",
     "text": [
      "X:\\ML\n"
     ]
    },
    {
     "data": {
      "application/vnd.jupyter.widget-view+json": {
       "model_id": "ef2206c6b1f445608daf0bb8f44a47d7",
       "version_major": 2,
       "version_minor": 0
      },
      "text/plain": [
       "HBox(children=(HTML(value='Summarize dataset'), FloatProgress(value=0.0, max=35.0), HTML(value='')))"
      ]
     },
     "metadata": {},
     "output_type": "display_data"
    },
    {
     "name": "stdout",
     "output_type": "stream",
     "text": [
      "\n"
     ]
    },
    {
     "data": {
      "application/vnd.jupyter.widget-view+json": {
       "model_id": "7d956cde398b4044852e9c07bcff1af6",
       "version_major": 2,
       "version_minor": 0
      },
      "text/plain": [
       "HBox(children=(HTML(value='Generate report structure'), FloatProgress(value=0.0, max=1.0), HTML(value='')))"
      ]
     },
     "metadata": {},
     "output_type": "display_data"
    },
    {
     "name": "stdout",
     "output_type": "stream",
     "text": [
      "\n"
     ]
    },
    {
     "data": {
      "application/vnd.jupyter.widget-view+json": {
       "model_id": "61c5f919208c4823b4706f6572884aba",
       "version_major": 2,
       "version_minor": 0
      },
      "text/plain": [
       "HBox(children=(HTML(value='Render HTML'), FloatProgress(value=0.0, max=1.0), HTML(value='')))"
      ]
     },
     "metadata": {},
     "output_type": "display_data"
    },
    {
     "name": "stdout",
     "output_type": "stream",
     "text": [
      "\n"
     ]
    },
    {
     "data": {
      "application/vnd.jupyter.widget-view+json": {
       "model_id": "2706c9fea94d4865a7aa9817feb62b0e",
       "version_major": 2,
       "version_minor": 0
      },
      "text/plain": [
       "HBox(children=(HTML(value='Export report to file'), FloatProgress(value=0.0, max=1.0), HTML(value='')))"
      ]
     },
     "metadata": {},
     "output_type": "display_data"
    },
    {
     "name": "stdout",
     "output_type": "stream",
     "text": [
      "\n"
     ]
    }
   ],
   "source": [
    "import pandas as pd\n",
    "import pandas_profiling\n",
    "\n",
    "# Change file path and print for confirmation\n",
    "import os\n",
    "os.chdir(\"X:\\ML\")\n",
    "cwd = os.getcwd()\n",
    "print(cwd)\n",
    "\n",
    "#open the data file\n",
    "df = pd.read_csv(r'Melbourne_housing_FULL.csv')\n",
    "\n",
    "#To display the report in the notebook - note this makes the code file large in terms of MB\n",
    "#df.profile_report()\n",
    "\n",
    "#To export the report to an HTML file usable outside of the notebook\n",
    "profile = df.profile_report(title='Melbourn Housing Profile')\n",
    "profile.to_file(\"Melbourne Housing Profile.html\")\n"
   ]
  },
  {
   "cell_type": "code",
   "execution_count": null,
   "metadata": {},
   "outputs": [],
   "source": [
    "import numba as nb\n",
    "\n"
   ]
  }
 ],
 "metadata": {
  "kernelspec": {
   "display_name": "Python 3",
   "language": "python",
   "name": "python3"
  },
  "language_info": {
   "codemirror_mode": {
    "name": "ipython",
    "version": 3
   },
   "file_extension": ".py",
   "mimetype": "text/x-python",
   "name": "python",
   "nbconvert_exporter": "python",
   "pygments_lexer": "ipython3",
   "version": "3.7.6"
  },
  "toc": {
   "base_numbering": 1,
   "nav_menu": {},
   "number_sections": true,
   "sideBar": true,
   "skip_h1_title": false,
   "title_cell": "Table of Contents",
   "title_sidebar": "Contents",
   "toc_cell": false,
   "toc_position": {},
   "toc_section_display": true,
   "toc_window_display": false
  }
 },
 "nbformat": 4,
 "nbformat_minor": 2
}
